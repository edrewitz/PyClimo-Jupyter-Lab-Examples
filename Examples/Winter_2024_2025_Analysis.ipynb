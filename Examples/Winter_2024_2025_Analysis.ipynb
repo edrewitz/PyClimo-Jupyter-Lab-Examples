{
 "cells": [
  {
   "cell_type": "code",
   "execution_count": 1,
   "id": "2d1184ae-f4e2-469d-b88e-4352071acefe",
   "metadata": {},
   "outputs": [
    {
     "name": "stdout",
     "output_type": "stream",
     "text": [
      "Welcome First Time PyClimo User!\n",
      "Let me set you up automatically by downloading & installing all the shapefiles for you.\n",
      "My Motto is: 'Let the PyClimo functions do the work so you don't have to!'\n",
      "Setting Up...\n",
      "Set Up Complete! Have Fun!\n"
     ]
    }
   ],
   "source": [
    "'''\n",
    "In this example we will use PyClimo to analyze the 500 millibar geopotential height pattern across North America during Winter 2024-2025\n",
    "Winter 2024-2025 will be defined in terms of meteorological season (December 1st, 2024 - February 28th, 2025). \n",
    "\n",
    "In this example we will use NCAR Reanalysis Data. \n",
    "\n",
    "The following graphics will be created to complete our analysis:\n",
    "\n",
    "1) Mean 500 MB Geopotential Height for the period\n",
    "2) EOF1 (1st Principle Component/1st Empirical Orthogonal Function) for the period \n",
    "3) EOF2 (2nd Principle Component/2nd Empirical Orthogonal Function) for the period\n",
    "4) EOF1 Scores for the period\n",
    "5) EOF2 Scores for the period\n",
    "\n",
    "In this example, we are a first time user so you will see the first-time user set-up message being displayed\n",
    "\n",
    "Let's now begin with our import\n",
    "'''\n",
    "from pyclimo import plot_ncar_reanalysis_data_period_mean_eof1_eof2"
   ]
  },
  {
   "cell_type": "code",
   "execution_count": 2,
   "id": "351b8432-1a32-49ee-a992-714db0695a1b",
   "metadata": {},
   "outputs": [
    {
     "name": "stdout",
     "output_type": "stream",
     "text": [
      "Saved MEAN 500 MB GEOPOTENTIAL HEIGHT [DM].png to f:Climate Analysis Graphics/NOAA PSL/HGT/PRESSURE/180W_40W_80N_20N/2024_12_01_to_2025_02_28/NCAR REANALYSIS/500\n",
      "Saved EOF1 500 MB GEOPOTENTIAL HEIGHT.png to f:Climate Analysis Graphics/NOAA PSL/HGT/PRESSURE/180W_40W_80N_20N/2024_12_01_to_2025_02_28/NCAR REANALYSIS/500\n",
      "Saved EOF2 500 MB GEOPOTENTIAL HEIGHT.png to f:Climate Analysis Graphics/NOAA PSL/HGT/PRESSURE/180W_40W_80N_20N/2024_12_01_to_2025_02_28/NCAR REANALYSIS/500\n",
      "Saved EOF1 Scores.png to f:Climate Analysis Graphics/NOAA PSL/HGT/PRESSURE/180W_40W_80N_20N/2024_12_01_to_2025_02_28/NCAR REANALYSIS/500\n",
      "Saved EOF2 Scores.png to f:Climate Analysis Graphics/NOAA PSL/HGT/PRESSURE/180W_40W_80N_20N/2024_12_01_to_2025_02_28/NCAR REANALYSIS/500\n"
     ]
    }
   ],
   "source": [
    "'''\n",
    "We now need to plot our data. To do this we need to pass in the following required arguments:\n",
    "\n",
    "1) variable (String) - The variable name.\n",
    "2) level_type (String) - This determines the directory at which the data is pulled from on the PSL OPENDAP.\n",
    "3) western_bound (Float or Integer) - The western bound for the plot in decimal degrees.\n",
    "4) eastern_bound (Float or Integer) - The eastern bound for the plot in decimal degrees.\n",
    "5) southern_bound (Float or Integer) - The southern bound for the plot in decimal degrees.\n",
    "6) northern_bound (Float or Integer) - The northern bound for the plot in decimal degrees.\n",
    "7) start_date (String) - The start date of the analysis period in the 'YYYY-mm-dd' format.\n",
    "8) end_date (String) - The end date of the analysis period in the 'YYYY-mm-dd' format.\n",
    "\n",
    "The one optional argument we most likely will need to tinker with is the shrink. \n",
    "The shrink determines how tall the colorbar is on the side of the graphics.\n",
    "Shrink values range between 0 (very short) and 1 (very tall). \n",
    "For areas that have a greater west-east distance than a north-south distance, the shrink value will need to be decreased.\n",
    "The default value for shrink is 1. \n",
    "In this example, I found shrink=0.4 works well. \n",
    "\n",
    "Now let's download our data, perform our analysis and make our graphics!\n",
    "'''\n",
    "\n",
    "plot_ncar_reanalysis_data_period_mean_eof1_eof2('hgt', 'pressure', -180, -40, 20, 80, '2024-12-01', '2025-02-28', shrink=0.4)"
   ]
  },
  {
   "cell_type": "markdown",
   "id": "1b9b1ffe-9ab6-48ac-8af7-bbb82cb9e1fe",
   "metadata": {},
   "source": [
    "For the full documentation of this function, including the variable list and the optional arguments, please click [here](https://github.com/edrewitz/pyclimo/blob/main/README.md#plot_ncar_reanalysis_data_period_mean_eof1_eof2)"
   ]
  },
  {
   "cell_type": "code",
   "execution_count": null,
   "id": "8c574498-a892-4a50-ba7f-32683c597a08",
   "metadata": {},
   "outputs": [],
   "source": []
  }
 ],
 "metadata": {
  "kernelspec": {
   "display_name": "Python 3 (ipykernel)",
   "language": "python",
   "name": "python3"
  },
  "language_info": {
   "codemirror_mode": {
    "name": "ipython",
    "version": 3
   },
   "file_extension": ".py",
   "mimetype": "text/x-python",
   "name": "python",
   "nbconvert_exporter": "python",
   "pygments_lexer": "ipython3",
   "version": "3.10.17"
  }
 },
 "nbformat": 4,
 "nbformat_minor": 5
}
