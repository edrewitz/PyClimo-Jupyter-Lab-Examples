{
 "cells": [
  {
   "cell_type": "code",
   "execution_count": 1,
   "id": "35ec611b-73fb-48b8-911d-dc0f8f9eefa9",
   "metadata": {},
   "outputs": [],
   "source": [
    "'''\n",
    "In this example, we will plot the daily precipitation for October 30th, 2012 which was the day Super Storm Sandy hit Long Island and New York City. \n",
    "(I was a freshman at SUNY Oswego at the time and I was a Long Island kid so this hits close to home)\n",
    "\n",
    "Let's begin with our import\n",
    "'''\n",
    "from pyclimo import plot_prism_data"
   ]
  },
  {
   "cell_type": "code",
   "execution_count": 2,
   "id": "f4d055ba-2b52-4a62-98de-714b03dffc67",
   "metadata": {},
   "outputs": [
    {
     "name": "stdout",
     "output_type": "stream",
     "text": [
      "Saved PPT.png to f:Climate Analysis Graphics/PRISM/DAILY/US/PPT/2012/10/30/4KM/STATES & COUNTIES\n"
     ]
    }
   ],
   "source": [
    "'''\n",
    "Now let's call our plot_prism_data function which will download, parse and plot the climate data from PRISM Group.\n",
    "\n",
    "We need to pass in a few required arguments:\n",
    "\n",
    "1) dtype (String) - Data Type: Daily, Monthly, Normals\n",
    "   - Daily = Daily Data\n",
    "   - Monthly = Monthly Data\n",
    "   - Normals = 30-Year Climate Normals\n",
    "\n",
    "2) variable (String) - The variable to analyze. \n",
    "\n",
    "   Universal Variables:\n",
    "   - ppt = Daily [monthly] total precipitation (rain+melted snow) \n",
    "   - tdmean = Daily mean dew point temperature [averaged over all days in the month]\n",
    "   - tmax = Daily maximum temperature [averaged over all days in the month]\n",
    "   - tmean = Daily mean temperature, calculated as (tmax+tmin)/2\n",
    "   - tmin = Daily minimum temperature [averaged over all days in the month]\n",
    "   - vpdmax = Daily maximum vapor pressure deficit [averaged over all days in the month] \n",
    "   - vpdmin = Daily minimum vapor pressure deficit [averaged over all days in the month] \n",
    "\n",
    "3) year (String) - Year\n",
    "   Daily Data goes back to 1981\n",
    "   Monthly Data goes back to 1895\n",
    "\n",
    "4) month (String) - 2 digit abbreviation for month (MM)\n",
    "\n",
    "5) day (String) - For daily data only - 2 digit abbreviation for day (DD)\n",
    "   If the user wants to use monthly data instead of daily data, pass a value of None for the variable day. \n",
    "\n",
    "6) normal_type (String) - Daily or Monthly normals.\n",
    "\n",
    "Now let's plot our data!!\n",
    "'''\n",
    "plot_prism_data('daily', 'ppt', '2012', '10', '30', _)"
   ]
  },
  {
   "cell_type": "markdown",
   "id": "d32993fa-a88b-4ba1-8596-ce73fe732756",
   "metadata": {},
   "source": [
    "For the full documentation of this function, including the variable list and the optional arguments, please click [here](https://github.com/edrewitz/pyclimo/blob/main/README.md#plot_prism_data)"
   ]
  },
  {
   "cell_type": "markdown",
   "id": "1aa89288-4c6b-4869-9461-186cea57cee6",
   "metadata": {},
   "source": [
    "To view the graphic created in this example, please click [here](https://github.com/edrewitz/PyClimo-Jupyter-Lab-Examples/blob/main/graphics/Example%202/TMAX.png)"
   ]
  },
  {
   "cell_type": "code",
   "execution_count": null,
   "id": "3cfa97a7-4bdd-49b7-a346-6b441455155b",
   "metadata": {},
   "outputs": [],
   "source": []
  }
 ],
 "metadata": {
  "kernelspec": {
   "display_name": "Python 3 (ipykernel)",
   "language": "python",
   "name": "python3"
  },
  "language_info": {
   "codemirror_mode": {
    "name": "ipython",
    "version": 3
   },
   "file_extension": ".py",
   "mimetype": "text/x-python",
   "name": "python",
   "nbconvert_exporter": "python",
   "pygments_lexer": "ipython3",
   "version": "3.10.17"
  }
 },
 "nbformat": 4,
 "nbformat_minor": 5
}
