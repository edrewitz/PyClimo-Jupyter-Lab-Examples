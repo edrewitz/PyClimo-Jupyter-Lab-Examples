{
 "cells": [
  {
   "cell_type": "code",
   "execution_count": 1,
   "id": "2d1184ae-f4e2-469d-b88e-4352071acefe",
   "metadata": {},
   "outputs": [],
   "source": [
    "'''\n",
    "In this example we will use PyClimo to analyze Sea-Level Pressure for Winter 2024-2025\n",
    "Winter 2024-2025 will be defined in terms of meteorological season (December 1st, 2024 - February 28th, 2025). \n",
    "In this example we will look at a Northern Hemispheric view. \n",
    "\n",
    "In this example we will use NCAR Reanalysis Data. \n",
    "\n",
    "The following graphics will be created to complete our analysis:\n",
    "\n",
    "1) Mean Sea-Level Pressure for the period\n",
    "2) EOF1 (1st Principle Component/1st Empirical Orthogonal Function) for the period \n",
    "3) EOF2 (2nd Principle Component/2nd Empirical Orthogonal Function) for the period\n",
    "4) EOF1 Scores for the period\n",
    "5) EOF2 Scores for the period\n",
    "\n",
    "Let's now begin with our import\n",
    "'''\n",
    "from pyclimo import plot_ncar_reanalysis_data_period_mean_eof1_eof2"
   ]
  },
  {
   "cell_type": "code",
   "execution_count": 2,
   "id": "351b8432-1a32-49ee-a992-714db0695a1b",
   "metadata": {},
   "outputs": [
    {
     "name": "stdout",
     "output_type": "stream",
     "text": [
      "Saved MEAN SEA LEVEL PRESSURE [hPa].png to f:Climate Analysis Graphics/NOAA PSL/SLP/SURFACE/180W_180E_90N_25N/2024_12_01_to_2025_02_28/NCAR REANALYSIS\n",
      "Saved EOF1 SEA LEVEL PRESSURE.png to f:Climate Analysis Graphics/NOAA PSL/SLP/SURFACE/180W_180E_90N_25N/2024_12_01_to_2025_02_28/NCAR REANALYSIS\n",
      "Saved EOF2 SEA LEVEL PRESSURE.png to f:Climate Analysis Graphics/NOAA PSL/SLP/SURFACE/180W_180E_90N_25N/2024_12_01_to_2025_02_28/NCAR REANALYSIS\n",
      "Saved EOF1 Scores.png to f:Climate Analysis Graphics/NOAA PSL/SLP/SURFACE/180W_180E_90N_25N/2024_12_01_to_2025_02_28/NCAR REANALYSIS\n",
      "Saved EOF2 Scores.png to f:Climate Analysis Graphics/NOAA PSL/SLP/SURFACE/180W_180E_90N_25N/2024_12_01_to_2025_02_28/NCAR REANALYSIS\n"
     ]
    }
   ],
   "source": [
    "'''\n",
    "We now need to plot our data. To do this we need to pass in the following required arguments:\n",
    "\n",
    "1) variable (String) - The variable name.\n",
    "2) level_type (String) - This determines the directory at which the data is pulled from on the PSL OPENDAP.\n",
    "3) start_date (String) - The start date of the analysis period in the 'YYYY-mm-dd' format.\n",
    "4) end_date (String) - The end date of the analysis period in the 'YYYY-mm-dd' format.\n",
    "\n",
    "***Since the hemispheric views have pre-defined coordinate boundaries we can pass in _ for our bounds***\n",
    "Passing a value of _ is a placeholder technique in Python since we do not need to enter boundaries in this example.\n",
    "\n",
    "Optional Arguments needed in this example:\n",
    "\n",
    "1) We need to set hemispheric_view=True\n",
    "\n",
    "***Important Note***\n",
    "\n",
    "When hemispheric_view=True, the default hemisphere='N'. \n",
    "For Southern Hemisphere, set hemisphere='S'. \n",
    "\n",
    "Now let's download our data, perform our analysis and make our graphics!\n",
    "'''\n",
    "\n",
    "plot_ncar_reanalysis_data_period_mean_eof1_eof2('slp', 'surface', _, _, _, _, '2024-12-01', '2025-02-28', hemispheric_view=True)"
   ]
  },
  {
   "cell_type": "markdown",
   "id": "1b9b1ffe-9ab6-48ac-8af7-bbb82cb9e1fe",
   "metadata": {},
   "source": [
    "For the full documentation of this function, including the variable list and the optional arguments, please click [here](https://github.com/edrewitz/pyclimo/blob/main/README.md#plot_ncar_reanalysis_data_period_mean_eof1_eof2)"
   ]
  },
  {
   "cell_type": "markdown",
   "id": "0a8ed577-6e72-4757-a699-ada3f4970390",
   "metadata": {},
   "source": [
    "Here are links to the graphics we created:\n",
    "1) [Mean Sea Level Pressure](https://github.com/edrewitz/PyClimo-Jupyter-Lab-Examples/blob/main/graphics/Example%206/MEAN%20SEA%20LEVEL%20PRESSURE%20%5BhPa%5D.png)\n",
    "2) [EOF1 Sea Level Pressure](https://github.com/edrewitz/PyClimo-Jupyter-Lab-Examples/blob/main/graphics/Example%206/EOF1%20SEA%20LEVEL%20PRESSURE.png)\n",
    "3) [EOF2 Sea Level Pressure](https://github.com/edrewitz/PyClimo-Jupyter-Lab-Examples/blob/main/graphics/Example%206/EOF2%20SEA%20LEVEL%20PRESSURE.png)\n",
    "4) [EOF1 Scores](https://github.com/edrewitz/PyClimo-Jupyter-Lab-Examples/blob/main/graphics/Example%206/EOF1%20Scores.png)\n",
    "5) [EOF2 Scores](https://github.com/edrewitz/PyClimo-Jupyter-Lab-Examples/blob/main/graphics/Example%206/EOF2%20Scores.png)"
   ]
  },
  {
   "cell_type": "code",
   "execution_count": null,
   "id": "99a5dc27-5d47-438e-8ad1-5303f17ae85f",
   "metadata": {},
   "outputs": [],
   "source": []
  }
 ],
 "metadata": {
  "kernelspec": {
   "display_name": "Python 3 (ipykernel)",
   "language": "python",
   "name": "python3"
  },
  "language_info": {
   "codemirror_mode": {
    "name": "ipython",
    "version": 3
   },
   "file_extension": ".py",
   "mimetype": "text/x-python",
   "name": "python",
   "nbconvert_exporter": "python",
   "pygments_lexer": "ipython3",
   "version": "3.10.18"
  }
 },
 "nbformat": 4,
 "nbformat_minor": 5
}
